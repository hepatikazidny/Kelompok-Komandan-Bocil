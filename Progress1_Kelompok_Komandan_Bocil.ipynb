{
 "cells": [
  {
   "cell_type": "code",
   "execution_count": 1,
   "metadata": {},
   "outputs": [
    {
     "name": "stdout",
     "output_type": "stream",
     "text": [
      "=========================\n",
      "Global Feature Extraction\n",
      "=========================\n"
     ]
    }
   ],
   "source": [
    "print (\"=========================\")\n",
    "print (\"Global Feature Extraction\")\n",
    "print (\"=========================\")\n",
    "from sklearn.preprocessing import LabelEncoder\n",
    "from sklearn.preprocessing import MinMaxScaler\n",
    "import numpy as np\n",
    "import mahotas\n",
    "import cv2\n",
    "import os\n",
    "import h5py\n",
    "import glob\n",
    "\n",
    "# fixed-sizes for image\n",
    "# fixed_size = tuple((500, 500))\n",
    "fixed_size = (250, 250)\n",
    "\n",
    "# path to training data\n",
    "train_path = os.path.abspath(\"cat/train/\")\n",
    "\n",
    "# no.of.trees for Random Forests\n",
    "num_trees = 100\n",
    "\n",
    "# bins for histogram\n",
    "bins = 8\n",
    "\n",
    "# train_test_split size\n",
    "test_size = 0.20\n",
    "\n",
    "# seed for reproducing same results\n",
    "seed = 9"
   ]
  },
  {
   "cell_type": "code",
   "execution_count": 2,
   "metadata": {},
   "outputs": [],
   "source": [
    "# feature-descriptor-1: Hu Moments\n",
    "def fd_hu_moments(image):\n",
    "    image = cv2.cvtColor(image, cv2.COLOR_BGR2GRAY)\n",
    "    feature = cv2.HuMoments(cv2.moments(image)).flatten()\n",
    "    return feature"
   ]
  },
  {
   "cell_type": "code",
   "execution_count": 3,
   "metadata": {},
   "outputs": [],
   "source": [
    "# feature-descriptor-2: Haralick Texture\n",
    "def fd_haralick(image):\n",
    "    # convert the image to grayscale\n",
    "    gray = cv2.cvtColor(image, cv2.COLOR_BGR2GRAY)\n",
    "    # compute the haralick texture feature vector\n",
    "    haralick = mahotas.features.haralick(gray).mean(axis=0)\n",
    "    # return the result\n",
    "    return haralick"
   ]
  },
  {
   "cell_type": "code",
   "execution_count": 4,
   "metadata": {},
   "outputs": [],
   "source": [
    "# feature-descriptor-3: Color Histogram\n",
    "def fd_histogram(image, mask=None):\n",
    "    # convert the image to HSV color-space\n",
    "    image = cv2.cvtColor(image, cv2.COLOR_BGR2HSV)\n",
    "    # compute the color histogram\n",
    "    hist  = cv2.calcHist([image], [0, 1, 2], None, [bins, bins, bins], [0, 256, 0, 256, 0, 256])\n",
    "    # normalize the histogram\n",
    "    cv2.normalize(hist, hist)\n",
    "    # return the histogram\n",
    "    return hist.flatten()"
   ]
  },
  {
   "cell_type": "code",
   "execution_count": 5,
   "metadata": {},
   "outputs": [
    {
     "name": "stdout",
     "output_type": "stream",
     "text": [
      "['Abyssinian', 'Bengal', 'Birman', 'Bombay', 'British_Shorthair', 'Maine_Coon', 'Persian', 'Ragdoll', 'Russian_Blue', 'Siamese', 'Sphynx']\n"
     ]
    }
   ],
   "source": [
    "# get the training labels\n",
    "train_labels = os.listdir(train_path)\n",
    "\n",
    "# sort the training labels\n",
    "train_labels.sort()\n",
    "print(train_labels)\n",
    "\n",
    "# empty lists to hold feature vectors and labels\n",
    "global_features = []\n",
    "labels = []\n",
    "\n",
    "i, j = 0, 0\n",
    "k = 0\n",
    "\n",
    "# num of images per class\n",
    "images_per_class = 80"
   ]
  },
  {
   "cell_type": "code",
   "execution_count": 6,
   "metadata": {},
   "outputs": [
    {
     "name": "stdout",
     "output_type": "stream",
     "text": [
      "Abyssinian\n",
      "[STATUS] processed folder: Abyssinian\n",
      "Bengal\n",
      "[STATUS] processed folder: Bengal\n",
      "Birman\n",
      "[STATUS] processed folder: Birman\n",
      "Bombay\n",
      "[STATUS] processed folder: Bombay\n",
      "British_Shorthair\n",
      "[STATUS] processed folder: British_Shorthair\n",
      "Maine_Coon\n",
      "[STATUS] processed folder: Maine_Coon\n",
      "Persian\n",
      "[STATUS] processed folder: Persian\n",
      "Ragdoll\n",
      "[STATUS] processed folder: Ragdoll\n",
      "Russian_Blue\n",
      "[STATUS] processed folder: Russian_Blue\n",
      "Siamese\n",
      "[STATUS] processed folder: Siamese\n",
      "Sphynx\n",
      "[STATUS] processed folder: Sphynx\n",
      "[STATUS] completed Global Feature Extraction...\n"
     ]
    }
   ],
   "source": [
    "# loop over the training data sub-folders\n",
    "for training_name in train_labels:\n",
    "    # join the training data path and each species training folder\n",
    "    dir = os.path.join(train_path, training_name)\n",
    "\n",
    "    # get the current training label\n",
    "    current_label = training_name\n",
    "    \n",
    "    print(current_label)\n",
    "    \n",
    "    list_images = [f for f in glob.glob(dir + \"\\*.jpg\")]\n",
    "    list_images = sorted(list_images)\n",
    "#     print(\"list image \",list_images[0])\n",
    "    \n",
    "\n",
    "    k = 10\n",
    "    # loop over the images in each sub-folder\n",
    "#     for x in range(1,images_per_class+1):\n",
    "    for x in range(1,images_per_class+1):\n",
    "        # get the image file name\n",
    "#         file = dir + \"\\\\\" + current_label + \"_\" +str(x) + \".jpg\"\n",
    "        file = list_images[x]\n",
    "#         print(file)\n",
    "#         print(os.path.isfile(file))\n",
    "\n",
    "        # read the image and resize it to a fixed-size\n",
    "        image = cv2.imread(file)\n",
    "#         image = cv2.\n",
    "#         print(image.shape)\n",
    "#         cv2.imshow(\"Test\", image)\n",
    "        image = cv2.resize(image, fixed_size)\n",
    "#         print(image)\n",
    "\n",
    "        ####################################\n",
    "        # Global Feature extraction\n",
    "        ####################################\n",
    "        fv_hu_moments = fd_hu_moments(image)\n",
    "        fv_haralick   = fd_haralick(image)\n",
    "        fv_histogram  = fd_histogram(image)\n",
    "\n",
    "        ###################################\n",
    "        # Concatenate global features\n",
    "        ###################################\n",
    "        global_feature = np.hstack([fv_histogram, fv_haralick, fv_hu_moments])\n",
    "\n",
    "        # update the list of labels and feature vectors\n",
    "        labels.append(current_label)\n",
    "        global_features.append(global_feature)\n",
    "\n",
    "        i += 1\n",
    "        k += 1\n",
    "    print (\"[STATUS] processed folder: {}\".format(current_label))\n",
    "    j += 1\n",
    "\n",
    "print (\"[STATUS] completed Global Feature Extraction...\")"
   ]
  }
 ],
 "metadata": {
  "kernelspec": {
   "display_name": "Python 3",
   "language": "python",
   "name": "python3"
  },
  "language_info": {
   "codemirror_mode": {
    "name": "ipython",
    "version": 3
   },
   "file_extension": ".py",
   "mimetype": "text/x-python",
   "name": "python",
   "nbconvert_exporter": "python",
   "pygments_lexer": "ipython3",
   "version": "3.6.0"
  }
 },
 "nbformat": 4,
 "nbformat_minor": 2
}
